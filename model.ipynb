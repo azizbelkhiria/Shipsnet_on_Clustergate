{
 "cells": [
  {
   "cell_type": "markdown",
   "metadata": {},
   "source": [
    "### Model tranining and inference"
   ]
  },
  {
   "cell_type": "code",
   "execution_count": null,
   "metadata": {},
   "outputs": [
    {
     "name": "stderr",
     "output_type": "stream",
     "text": [
      "2025-02-23 18:00:32.568210: I metal_plugin/src/device/metal_device.cc:1154] Metal device set to: Apple M2\n",
      "2025-02-23 18:00:32.568590: I metal_plugin/src/device/metal_device.cc:296] systemMemory: 8.00 GB\n",
      "2025-02-23 18:00:32.568620: I metal_plugin/src/device/metal_device.cc:313] maxCacheSize: 2.67 GB\n",
      "WARNING: All log messages before absl::InitializeLog() is called are written to STDERR\n",
      "I0000 00:00:1740330032.569369   52612 pluggable_device_factory.cc:305] Could not identify NUMA node of platform GPU ID 0, defaulting to 0. Your kernel may not have been built with NUMA support.\n",
      "I0000 00:00:1740330032.570229   52612 pluggable_device_factory.cc:271] Created TensorFlow device (/job:localhost/replica:0/task:0/device:GPU:0 with 0 MB memory) -> physical PluggableDevice (device: 0, name: METAL, pci bus id: <undefined>)\n"
     ]
    },
    {
     "name": "stdout",
     "output_type": "stream",
     "text": [
      "MPS not available, training on CPU...\n",
      "Epoch 1/5\n"
     ]
    },
    {
     "name": "stderr",
     "output_type": "stream",
     "text": [
      "2025-02-23 18:00:35.464660: I tensorflow/core/grappler/optimizers/custom_graph_optimizer_registry.cc:117] Plugin optimizer for device_type GPU is enabled.\n"
     ]
    },
    {
     "name": "stdout",
     "output_type": "stream",
     "text": [
      "\u001b[1m100/100\u001b[0m \u001b[32m━━━━━━━━━━━━━━━━━━━━\u001b[0m\u001b[37m\u001b[0m \u001b[1m8s\u001b[0m 29ms/step - accuracy: 0.8325 - loss: 0.4434 - val_accuracy: 0.9237 - val_loss: 0.1748\n",
      "Epoch 2/5\n",
      "\u001b[1m100/100\u001b[0m \u001b[32m━━━━━━━━━━━━━━━━━━━━\u001b[0m\u001b[37m\u001b[0m \u001b[1m3s\u001b[0m 26ms/step - accuracy: 0.9388 - loss: 0.1561 - val_accuracy: 0.9475 - val_loss: 0.1386\n",
      "Epoch 3/5\n",
      "\u001b[1m100/100\u001b[0m \u001b[32m━━━━━━━━━━━━━━━━━━━━\u001b[0m\u001b[37m\u001b[0m \u001b[1m3s\u001b[0m 26ms/step - accuracy: 0.9592 - loss: 0.1248 - val_accuracy: 0.9638 - val_loss: 0.1028\n",
      "Epoch 4/5\n",
      "\u001b[1m100/100\u001b[0m \u001b[32m━━━━━━━━━━━━━━━━━━━━\u001b[0m\u001b[37m\u001b[0m \u001b[1m3s\u001b[0m 26ms/step - accuracy: 0.9623 - loss: 0.0993 - val_accuracy: 0.9750 - val_loss: 0.0820\n",
      "Epoch 5/5\n",
      "\u001b[1m100/100\u001b[0m \u001b[32m━━━━━━━━━━━━━━━━━━━━\u001b[0m\u001b[37m\u001b[0m \u001b[1m3s\u001b[0m 26ms/step - accuracy: 0.9776 - loss: 0.0636 - val_accuracy: 0.9688 - val_loss: 0.1021\n"
     ]
    },
    {
     "name": "stderr",
     "output_type": "stream",
     "text": [
      "WARNING:absl:You are saving your model as an HDF5 file via `model.save()` or `keras.saving.save_model(model)`. This file format is considered legacy. We recommend using instead the native Keras format, e.g. `model.save('my_model.keras')` or `keras.saving.save_model(model, 'my_model.keras')`. \n"
     ]
    },
    {
     "name": "stdout",
     "output_type": "stream",
     "text": [
      "Running inference on image 1/20...\n",
      "Running inference on image 2/20...\n",
      "Running inference on image 3/20...\n",
      "Running inference on image 4/20...\n",
      "Running inference on image 5/20...\n",
      "Running inference on image 6/20...\n",
      "Running inference on image 7/20...\n",
      "Running inference on image 8/20...\n",
      "Running inference on image 9/20...\n",
      "Running inference on image 10/20...\n",
      "Running inference on image 11/20...\n",
      "Running inference on image 12/20...\n",
      "Running inference on image 13/20...\n",
      "Running inference on image 14/20...\n",
      "Running inference on image 15/20...\n",
      "Running inference on image 16/20...\n",
      "Running inference on image 17/20...\n",
      "Running inference on image 18/20...\n",
      "Running inference on image 19/20...\n",
      "Running inference on image 20/20...\n",
      "\n",
      "Average inference time per image: 0.053190 seconds\n"
     ]
    }
   ],
   "source": [
    "import tensorflow as tf\n",
    "import numpy as np\n",
    "import pandas as pd\n",
    "import json\n",
    "import time\n",
    "import os\n",
    "from sklearn.model_selection import train_test_split\n",
    "\n",
    "# Ensure TensorFlow uses CPU for inference later\n",
    "os.environ[\"CUDA_VISIBLE_DEVICES\"] = \"-1\"  # Disable GPU for inference\n",
    "\n",
    "# Load ShipsNet dataset from JSON\n",
    "def load_shipsnet(json_path):\n",
    "    with open(json_path, 'r') as f:\n",
    "        data = json.load(f)\n",
    "    images = np.array(data['data']).reshape(-1, 80, 80, 3) / 255.0  # Normalize to [0, 1]\n",
    "    labels = np.array(data['labels'])\n",
    "    return images, labels\n",
    "\n",
    "# Build a shallow CNN\n",
    "def create_shallow_cnn():\n",
    "    model = tf.keras.Sequential([\n",
    "        tf.keras.layers.Input(shape=(80, 80, 3)),\n",
    "        tf.keras.layers.Conv2D(16, (3, 3), padding='same', name='conv1'),\n",
    "        tf.keras.layers.ReLU(name='relu1'),\n",
    "        tf.keras.layers.MaxPooling2D((2, 2), name='pool1'),\n",
    "        tf.keras.layers.Conv2D(32, (3, 3), padding='same', name='conv2'),\n",
    "        tf.keras.layers.ReLU(name='relu2'),\n",
    "        tf.keras.layers.MaxPooling2D((2, 2), name='pool2'),\n",
    "        tf.keras.layers.Flatten(name='flatten'),\n",
    "        tf.keras.layers.Dense(64, name='dense1'),\n",
    "        tf.keras.layers.ReLU(name='relu3'),\n",
    "        tf.keras.layers.Dense(2, activation='softmax', name='output')\n",
    "    ])\n",
    "    return model\n",
    "\n",
    "# Custom inference function to measure layer times\n",
    "def run_inference_with_timing(model, image):\n",
    "    timings = {}\n",
    "    input_tensor = tf.convert_to_tensor(image[None, ...], dtype=tf.float32)\n",
    "    \n",
    "    # Extract layers\n",
    "    conv1 = model.get_layer('conv1')\n",
    "    relu1 = model.get_layer('relu1')\n",
    "    pool1 = model.get_layer('pool1')\n",
    "    conv2 = model.get_layer('conv2')\n",
    "    relu2 = model.get_layer('relu2')\n",
    "    pool2 = model.get_layer('pool2')\n",
    "    flatten = model.get_layer('flatten')\n",
    "    dense1 = model.get_layer('dense1')\n",
    "    relu3 = model.get_layer('relu3')\n",
    "    output = model.get_layer('output')\n",
    "\n",
    "    # Forward pass with timing\n",
    "    start = time.time()\n",
    "    x = conv1(input_tensor)\n",
    "    timings['conv1'] = time.time() - start\n",
    "\n",
    "    start = time.time()\n",
    "    x = relu1(x)\n",
    "    timings['relu1'] = time.time() - start\n",
    "\n",
    "    start = time.time()\n",
    "    x = pool1(x)\n",
    "    timings['pool1'] = time.time() - start\n",
    "\n",
    "    start = time.time()\n",
    "    x = conv2(x)\n",
    "    timings['conv2'] = time.time() - start\n",
    "\n",
    "    start = time.time()\n",
    "    x = relu2(x)\n",
    "    timings['relu2'] = time.time() - start\n",
    "\n",
    "    start = time.time()\n",
    "    x = pool2(x)\n",
    "    timings['pool2'] = time.time() - start\n",
    "\n",
    "    start = time.time()\n",
    "    x = flatten(x)\n",
    "    timings['flatten'] = time.time() - start\n",
    "\n",
    "    start = time.time()\n",
    "    x = dense1(x)\n",
    "    timings['dense1'] = time.time() - start\n",
    "\n",
    "    start = time.time()\n",
    "    x = relu3(x)\n",
    "    timings['relu3'] = time.time() - start\n",
    "\n",
    "    start = time.time()\n",
    "    x = output(x)\n",
    "    timings['output'] = time.time() - start\n",
    "\n",
    "    total_time = sum(timings.values())\n",
    "    timings['total'] = total_time\n",
    "    return timings\n",
    "\n",
    "def main():\n",
    "    # Load dataset \n",
    "    json_path = 'shipsnet.json'  \n",
    "    images, labels = load_shipsnet(json_path)\n",
    "\n",
    "    # Split dataset\n",
    "    X_train, X_test, y_train, y_test = train_test_split(images, labels, test_size=0.2, random_state=42)\n",
    "\n",
    "    # Convert labels to categorical\n",
    "    y_train = tf.keras.utils.to_categorical(y_train, 2)\n",
    "    y_test = tf.keras.utils.to_categorical(y_test, 2)\n",
    "\n",
    "    # Create and compile model\n",
    "    model = create_shallow_cnn()\n",
    "    model.compile(optimizer='adam', loss='categorical_crossentropy', metrics=['accuracy'])\n",
    "\n",
    "    # Train with Metal (MPS) if available\n",
    "    if tf.config.list_physical_devices('MPS'):\n",
    "        print(\"Training with Metal (MPS)...\")\n",
    "        with tf.device('/device:MPS:0'):\n",
    "            model.fit(X_train, y_train, epochs=5, batch_size=32, validation_data=(X_test, y_test))\n",
    "    else:\n",
    "        print(\"MPS not available, training on CPU...\")\n",
    "        model.fit(X_train, y_train, epochs=5, batch_size=32, validation_data=(X_test, y_test))\n",
    "\n",
    "    # Save model\n",
    "    model.save('shipsnet_model.h5')\n",
    "\n",
    "    # Select 20 random test images for inference\n",
    "    np.random.seed(42)\n",
    "    indices = np.random.choice(X_test.shape[0], 20, replace=False)\n",
    "    test_images = X_test[indices]\n",
    "\n",
    "    # Run inference on CPU and collect timings\n",
    "    all_timings = []\n",
    "    for i, img in enumerate(test_images):\n",
    "        print(f\"Running inference on image {i+1}/20...\")\n",
    "        timings = run_inference_with_timing(model, img)\n",
    "        timings['image_id'] = i\n",
    "        all_timings.append(timings)\n",
    "\n",
    "    # Create DataFrame and save to CSV\n",
    "    df = pd.DataFrame(all_timings)\n",
    "    df = df[['image_id', 'conv1', 'relu1', 'pool1', 'conv2', 'relu2', 'pool2', 'flatten', 'dense1', 'relu3', 'output', 'total']]\n",
    "    df.to_csv('inference_timings.csv', index=False)\n",
    "\n",
    "    # Calculate and print average inference time\n",
    "    avg_time = df['total'].mean()\n",
    "    print(f\"\\nAverage inference time per image: {avg_time:.6f} seconds\")\n",
    "\n",
    "if __name__ == \"__main__\":\n",
    "    main()"
   ]
  },
  {
   "cell_type": "markdown",
   "metadata": {},
   "source": [
    "### Quantize (post training) and export to TFlite"
   ]
  },
  {
   "cell_type": "code",
   "execution_count": 3,
   "metadata": {},
   "outputs": [
    {
     "name": "stderr",
     "output_type": "stream",
     "text": [
      "WARNING:absl:Compiled the loaded model, but the compiled metrics have yet to be built. `model.compile_metrics` will be empty until you train or evaluate the model.\n"
     ]
    },
    {
     "name": "stdout",
     "output_type": "stream",
     "text": [
      "Model loaded successfully.\n",
      "Loaded 4000 images for quantization.\n",
      "INFO:tensorflow:Assets written to: /var/folders/ql/4_5wkdv130sbwn306v206qw40000gn/T/tmpso5p6v_c/assets\n"
     ]
    },
    {
     "name": "stderr",
     "output_type": "stream",
     "text": [
      "INFO:tensorflow:Assets written to: /var/folders/ql/4_5wkdv130sbwn306v206qw40000gn/T/tmpso5p6v_c/assets\n"
     ]
    },
    {
     "name": "stdout",
     "output_type": "stream",
     "text": [
      "Saved artifact at '/var/folders/ql/4_5wkdv130sbwn306v206qw40000gn/T/tmpso5p6v_c'. The following endpoints are available:\n",
      "\n",
      "* Endpoint 'serve'\n",
      "  args_0 (POSITIONAL_ONLY): TensorSpec(shape=(None, 80, 80, 3), dtype=tf.float32, name='input_layer')\n",
      "Output Type:\n",
      "  TensorSpec(shape=(None, 2), dtype=tf.float32, name=None)\n",
      "Captures:\n",
      "  5258914000: TensorSpec(shape=(), dtype=tf.resource, name=None)\n",
      "  5258917648: TensorSpec(shape=(), dtype=tf.resource, name=None)\n",
      "  5258917840: TensorSpec(shape=(), dtype=tf.resource, name=None)\n",
      "  5258916112: TensorSpec(shape=(), dtype=tf.resource, name=None)\n",
      "  5258915536: TensorSpec(shape=(), dtype=tf.resource, name=None)\n",
      "  5258916496: TensorSpec(shape=(), dtype=tf.resource, name=None)\n",
      "  5258917072: TensorSpec(shape=(), dtype=tf.resource, name=None)\n",
      "  5258915920: TensorSpec(shape=(), dtype=tf.resource, name=None)\n"
     ]
    },
    {
     "name": "stderr",
     "output_type": "stream",
     "text": [
      "/Users/mhamedazizbelkhiria/Documents/Dev/ships/lib/python3.11/site-packages/tensorflow/lite/python/convert.py:997: UserWarning: Statistics for quantized inputs were expected, but not specified; continuing anyway.\n",
      "  warnings.warn(\n",
      "WARNING: All log messages before absl::InitializeLog() is called are written to STDERR\n",
      "W0000 00:00:1740330278.934501   52612 tf_tfl_flatbuffer_helpers.cc:365] Ignored output_format.\n",
      "W0000 00:00:1740330278.934747   52612 tf_tfl_flatbuffer_helpers.cc:368] Ignored drop_control_dependency.\n",
      "2025-02-23 18:04:38.937746: I tensorflow/cc/saved_model/reader.cc:83] Reading SavedModel from: /var/folders/ql/4_5wkdv130sbwn306v206qw40000gn/T/tmpso5p6v_c\n",
      "2025-02-23 18:04:38.938334: I tensorflow/cc/saved_model/reader.cc:52] Reading meta graph with tags { serve }\n",
      "2025-02-23 18:04:38.938342: I tensorflow/cc/saved_model/reader.cc:147] Reading SavedModel debug info (if present) from: /var/folders/ql/4_5wkdv130sbwn306v206qw40000gn/T/tmpso5p6v_c\n",
      "I0000 00:00:1740330278.953679   52612 mlir_graph_optimization_pass.cc:401] MLIR V1 optimization pass is not enabled\n",
      "2025-02-23 18:04:38.954721: I tensorflow/cc/saved_model/loader.cc:236] Restoring SavedModel bundle.\n",
      "2025-02-23 18:04:39.000810: I tensorflow/cc/saved_model/loader.cc:220] Running initialization op on SavedModel bundle at path: /var/folders/ql/4_5wkdv130sbwn306v206qw40000gn/T/tmpso5p6v_c\n",
      "2025-02-23 18:04:39.011177: I tensorflow/cc/saved_model/loader.cc:466] SavedModel load for tags { serve }; Status: success: OK. Took 73432 microseconds.\n",
      "2025-02-23 18:04:39.043587: I tensorflow/compiler/mlir/tensorflow/utils/dump_mlir_util.cc:268] disabling MLIR crash reproducer, set env var `MLIR_CRASH_REPRODUCER_DIRECTORY` to enable.\n"
     ]
    },
    {
     "name": "stdout",
     "output_type": "stream",
     "text": [
      "Model successfully quantized and converted to TFLite.\n",
      "Quantized TFLite model saved to shipsnet_quantized.tflite.\n",
      "TFLite model size: 811.88 KB\n"
     ]
    },
    {
     "name": "stderr",
     "output_type": "stream",
     "text": [
      "fully_quantize: 0, inference_type: 6, input_inference_type: INT8, output_inference_type: INT8\n"
     ]
    }
   ],
   "source": [
    "import tensorflow as tf\n",
    "import numpy as np\n",
    "import json\n",
    "import os\n",
    "\n",
    "# Load ShipsNet dataset for representative data\n",
    "def load_shipsnet(json_path):\n",
    "    with open(json_path, 'r') as f:\n",
    "        data = json.load(f)\n",
    "    images = np.array(data['data']).reshape(-1, 80, 80, 3) / 255.0  # Normalize to [0, 1]\n",
    "    return images\n",
    "\n",
    "# Generator for representative dataset\n",
    "def representative_dataset_gen(images, num_samples=100):\n",
    "    for i in range(min(num_samples, len(images))):\n",
    "        yield [images[i:i+1].astype(np.float32)]  # Yield single image as batch of 1\n",
    "\n",
    "def quantize_and_export_to_tflite(model_path, output_path, json_path):\n",
    "    # Load the trained model\n",
    "    model = tf.keras.models.load_model(model_path)\n",
    "    print(\"Model loaded successfully.\")\n",
    "\n",
    "    # Load dataset for quantization calibration\n",
    "    images = load_shipsnet(json_path)\n",
    "    print(f\"Loaded {len(images)} images for quantization.\")\n",
    "\n",
    "    # Convert to TFLite with INT8 quantization\n",
    "    converter = tf.lite.TFLiteConverter.from_keras_model(model)\n",
    "    \n",
    "    # Enable full integer quantization\n",
    "    converter.optimizations = [tf.lite.Optimize.DEFAULT]\n",
    "    converter.target_spec.supported_types = [tf.int8]  # Force INT8 weights\n",
    "    converter.inference_input_type = tf.int8           # INT8 inputs\n",
    "    converter.inference_output_type = tf.int8          # INT8 outputs\n",
    "    \n",
    "    # Provide representative dataset for activation quantization\n",
    "    def rep_dataset():\n",
    "        return representative_dataset_gen(images)\n",
    "    converter.representative_dataset = rep_dataset\n",
    "\n",
    "    # Convert the model\n",
    "    tflite_model = converter.convert()\n",
    "    print(\"Model successfully quantized and converted to TFLite.\")\n",
    "\n",
    "    # Save the TFLite model\n",
    "    with open(output_path, 'wb') as f:\n",
    "        f.write(tflite_model)\n",
    "    print(f\"Quantized TFLite model saved to {output_path}.\")\n",
    "\n",
    "    # Optional: Verify file size\n",
    "    file_size = os.path.getsize(output_path) / 1024  # Size in KB\n",
    "    print(f\"TFLite model size: {file_size:.2f} KB\")\n",
    "\n",
    "def main():\n",
    "    # Paths (adjust as needed)\n",
    "    model_path = 'shipsnet_model.h5'      # From previous training\n",
    "    tflite_path = 'shipsnet_quantized.tflite'\n",
    "    json_path = 'shipsnet.json'          # Your dataset\n",
    "\n",
    "    # Quantize and export\n",
    "    quantize_and_export_to_tflite(model_path, tflite_path, json_path)\n",
    "\n",
    "if __name__ == \"__main__\":\n",
    "    main()"
   ]
  },
  {
   "cell_type": "markdown",
   "metadata": {},
   "source": [
    "## Inference conmparison\n",
    "\n",
    "### laod data"
   ]
  },
  {
   "cell_type": "code",
   "execution_count": 5,
   "metadata": {},
   "outputs": [
    {
     "name": "stdout",
     "output_type": "stream",
     "text": [
      "Test set size: 800 images\n"
     ]
    }
   ],
   "source": [
    "import tensorflow as tf\n",
    "import numpy as np\n",
    "import pandas as pd\n",
    "from sklearn.metrics import confusion_matrix, accuracy_score\n",
    "import matplotlib.pyplot as plt\n",
    "import json\n",
    "\n",
    "# Load ShipsNet dataset\n",
    "def load_shipsnet(json_path):\n",
    "    with open(json_path, 'r') as f:\n",
    "        data = json.load(f)\n",
    "    images = np.array(data['data']).reshape(-1, 80, 80, 3) / 255.0  # Normalize to [0, 1]\n",
    "    labels = np.array(data['labels'])\n",
    "    return images, labels\n",
    "\n",
    "json_path = 'shipsnet.json'  # Adjust if needed\n",
    "images, labels = load_shipsnet(json_path)\n",
    "\n",
    "# Split into test set (20% as before)\n",
    "from sklearn.model_selection import train_test_split\n",
    "_, X_test, _, y_test = train_test_split(images, labels, test_size=0.2, random_state=42)\n",
    "print(f\"Test set size: {X_test.shape[0]} images\")"
   ]
  },
  {
   "cell_type": "markdown",
   "metadata": {},
   "source": [
    "### Test on Non Quantised"
   ]
  },
  {
   "cell_type": "code",
   "execution_count": 6,
   "metadata": {},
   "outputs": [
    {
     "name": "stderr",
     "output_type": "stream",
     "text": [
      "WARNING:absl:Compiled the loaded model, but the compiled metrics have yet to be built. `model.compile_metrics` will be empty until you train or evaluate the model.\n"
     ]
    },
    {
     "name": "stdout",
     "output_type": "stream",
     "text": [
      "Non-quantized model loaded.\n",
      "\u001b[1m25/25\u001b[0m \u001b[32m━━━━━━━━━━━━━━━━━━━━\u001b[0m\u001b[37m\u001b[0m \u001b[1m0s\u001b[0m 5ms/step\n",
      "Non-quantized model accuracy: 0.9688\n",
      "Non-quantized confusion matrix:\n",
      " [[588   3]\n",
      " [ 22 187]]\n"
     ]
    }
   ],
   "source": [
    "# Load non-quantized model\n",
    "non_quantized_model = tf.keras.models.load_model('shipsnet_model.h5')\n",
    "print(\"Non-quantized model loaded.\")\n",
    "\n",
    "# Run inference\n",
    "non_quantized_preds = non_quantized_model.predict(X_test)\n",
    "non_quantized_preds_labels = np.argmax(non_quantized_preds, axis=1)\n",
    "\n",
    "# Compute accuracy and confusion matrix\n",
    "non_quantized_accuracy = accuracy_score(y_test, non_quantized_preds_labels)\n",
    "non_quantized_cm = confusion_matrix(y_test, non_quantized_preds_labels)\n",
    "\n",
    "print(f\"Non-quantized model accuracy: {non_quantized_accuracy:.4f}\")\n",
    "print(\"Non-quantized confusion matrix:\\n\", non_quantized_cm)"
   ]
  },
  {
   "cell_type": "markdown",
   "metadata": {},
   "source": [
    "### Quantised"
   ]
  },
  {
   "cell_type": "code",
   "execution_count": 7,
   "metadata": {},
   "outputs": [
    {
     "name": "stderr",
     "output_type": "stream",
     "text": [
      "INFO: Created TensorFlow Lite XNNPACK delegate for CPU.\n"
     ]
    },
    {
     "name": "stdout",
     "output_type": "stream",
     "text": [
      "Quantized model accuracy: 0.9087\n",
      "Quantized confusion matrix:\n",
      " [[544  47]\n",
      " [ 26 183]]\n"
     ]
    }
   ],
   "source": [
    "# Load quantized TFLite model\n",
    "interpreter = tf.lite.Interpreter(model_path='shipsnet_quantized.tflite')\n",
    "interpreter.allocate_tensors()\n",
    "\n",
    "# Get input and output details\n",
    "input_details = interpreter.get_input_details()\n",
    "output_details = interpreter.get_output_details()\n",
    "\n",
    "# Prepare test data for INT8 input (scale from [0, 1] to [-128, 127])\n",
    "input_scale, input_zero_point = input_details[0]['quantization']\n",
    "X_test_quantized = (X_test / input_scale + input_zero_point).astype(np.int8)\n",
    "\n",
    "# Run inference\n",
    "quantized_preds = []\n",
    "for i in range(X_test.shape[0]):\n",
    "    interpreter.set_tensor(input_details[0]['index'], X_test_quantized[i:i+1])\n",
    "    interpreter.invoke()\n",
    "    output_data = interpreter.get_tensor(output_details[0]['index'])\n",
    "    quantized_preds.append(output_data[0])\n",
    "\n",
    "quantized_preds = np.array(quantized_preds)\n",
    "output_scale, output_zero_point = output_details[0]['quantization']\n",
    "quantized_preds_labels = np.argmax(quantized_preds, axis=1)  # Assuming INT8 outputs are class scores\n",
    "\n",
    "# Compute accuracy and confusion matrix\n",
    "quantized_accuracy = accuracy_score(y_test, quantized_preds_labels)\n",
    "quantized_cm = confusion_matrix(y_test, quantized_preds_labels)\n",
    "\n",
    "print(f\"Quantized model accuracy: {quantized_accuracy:.4f}\")\n",
    "print(\"Quantized confusion matrix:\\n\", quantized_cm)"
   ]
  },
  {
   "cell_type": "code",
   "execution_count": 8,
   "metadata": {},
   "outputs": [
    {
     "data": {
      "image/png": "[encoded data removed]",
      "text/plain": [
       "<Figure size 1200x500 with 4 Axes>"
      ]
     },
     "metadata": {},
     "output_type": "display_data"
    },
    {
     "name": "stdout",
     "output_type": "stream",
     "text": [
      "\n",
      "Accuracy Comparison:\n",
      "Non-Quantized: 0.9688\n",
      "Quantized: 0.9087\n",
      "Accuracy Drop: 0.0600\n"
     ]
    }
   ],
   "source": [
    "# Plot confusion matrices side by side\n",
    "fig, (ax1, ax2) = plt.subplots(1, 2, figsize=(12, 5))\n",
    "\n",
    "# Non-quantized\n",
    "im1 = ax1.imshow(non_quantized_cm, interpolation='nearest', cmap='Blues')\n",
    "ax1.set_title(f'Non-Quantized\\nAccuracy: {non_quantized_accuracy:.4f}')\n",
    "ax1.set_xlabel('Predicted')\n",
    "ax1.set_ylabel('True')\n",
    "ax1.set_xticks([0, 1])\n",
    "ax1.set_yticks([0, 1])\n",
    "for i in range(2):\n",
    "    for j in range(2):\n",
    "        ax1.text(j, i, non_quantized_cm[i, j], ha='center', va='center', color='black')\n",
    "fig.colorbar(im1, ax=ax1)\n",
    "\n",
    "# Quantized\n",
    "im2 = ax2.imshow(quantized_cm, interpolation='nearest', cmap='Blues')\n",
    "ax2.set_title(f'Quantized\\nAccuracy: {quantized_accuracy:.4f}')\n",
    "ax2.set_xlabel('Predicted')\n",
    "ax2.set_ylabel('True')\n",
    "ax2.set_xticks([0, 1])\n",
    "ax2.set_yticks([0, 1])\n",
    "for i in range(2):\n",
    "    for j in range(2):\n",
    "        ax2.text(j, i, quantized_cm[i, j], ha='center', va='center', color='black')\n",
    "fig.colorbar(im2, ax=ax2)\n",
    "\n",
    "plt.tight_layout()\n",
    "plt.show()\n",
    "\n",
    "# Summary\n",
    "print(f\"\\nAccuracy Comparison:\")\n",
    "print(f\"Non-Quantized: {non_quantized_accuracy:.4f}\")\n",
    "print(f\"Quantized: {quantized_accuracy:.4f}\")\n",
    "print(f\"Accuracy Drop: {(non_quantized_accuracy - quantized_accuracy):.4f}\")"
   ]
  },
  {
   "cell_type": "markdown",
   "metadata": {},
   "source": [
    "### Test data for the docker container"
   ]
  },
  {
   "cell_type": "code",
   "execution_count": 9,
   "metadata": {},
   "outputs": [
    {
     "name": "stdout",
     "output_type": "stream",
     "text": [
      "Saved 20 images to shipsnet_20.json\n"
     ]
    }
   ],
   "source": [
    "import json\n",
    "import numpy as np\n",
    "from sklearn.model_selection import train_test_split\n",
    "\n",
    "# Load full dataset\n",
    "def load_shipsnet(json_path):\n",
    "    with open(json_path, 'r') as f:\n",
    "        data = json.load(f)\n",
    "    images = np.array(data['data']).reshape(-1, 80, 80, 3) / 255.0\n",
    "    labels = np.array(data['labels'])\n",
    "    return images, labels\n",
    "\n",
    "json_path = 'shipsnet.json'  # Your full dataset\n",
    "images, labels = load_shipsnet(json_path)\n",
    "\n",
    "# Select 20 random samples\n",
    "_, X_test, _, y_test = train_test_split(images, labels, test_size=20, random_state=42)\n",
    "\n",
    "# Prepare data for JSON (flatten images back to 1D)\n",
    "test_data = {\n",
    "    'data': (X_test.reshape(20, -1) * 255.0).astype(np.uint8).tolist(),  # Un-normalize to 0-255\n",
    "    'labels': y_test.tolist()\n",
    "}\n",
    "\n",
    "# Save to new JSON file\n",
    "with open('shipsnet_20.json', 'w') as f:\n",
    "    json.dump(test_data, f)\n",
    "print(\"Saved 20 images to shipsnet_20.json\")"
   ]
  },
  {
   "cell_type": "code",
   "execution_count": 2,
   "metadata": {},
   "outputs": [
    {
     "name": "stderr",
     "output_type": "stream",
     "text": [
      "INFO: Created TensorFlow Lite XNNPACK delegate for CPU.\n",
      "WARNING: All log messages before absl::InitializeLog() is called are written to STDERR\n",
      "I0000 00:00:1740338274.643193  210802 pluggable_device_factory.cc:305] Could not identify NUMA node of platform GPU ID 0, defaulting to 0. Your kernel may not have been built with NUMA support.\n",
      "I0000 00:00:1740338274.643514  210802 pluggable_device_factory.cc:271] Created TensorFlow device (/job:localhost/replica:0/task:0/device:GPU:0 with 0 MB memory) -> physical PluggableDevice (device: 0, name: METAL, pci bus id: <undefined>)\n"
     ]
    },
    {
     "name": "stdout",
     "output_type": "stream",
     "text": [
      "Converted to ONNX: ~/dockers/shipsnet.onnx\n"
     ]
    }
   ],
   "source": [
    "import tf2onnx\n",
    "import tensorflow as tf\n",
    "\n",
    "# Load TFLite model\n",
    "tflite_path = \"shipsnet_quantized.tflite\"\n",
    "interpreter = tf.lite.Interpreter(model_path=tflite_path)\n",
    "interpreter.allocate_tensors()\n",
    "input_details = interpreter.get_input_details()\n",
    "output_details = interpreter.get_output_details()\n",
    "\n",
    "# Convert to ONNX\n",
    "model_proto, _ = tf2onnx.convert.from_tflite(\n",
    "    tflite_path=tflite_path,\n",
    "    input_names=[input_details[0]['name']],\n",
    "    output_names=[output_details[0]['name']],\n",
    "    opset=18,  # Latest opset as of Feb 2025\n",
    "    output_path=\"~/dockers/shipsnet.onnx\"\n",
    ")\n",
    "print(\"Converted to ONNX: ~/dockers/shipsnet.onnx\")"
   ]
  },
  {
   "cell_type": "code",
   "execution_count": null,
   "metadata": {},
   "outputs": [],
   "source": []
  }
 ],
 "metadata": {
  "kernelspec": {
   "display_name": "ships",
   "language": "python",
   "name": "python3"
  },
  "language_info": {
   "codemirror_mode": {
    "name": "ipython",
    "version": 3
   },
   "file_extension": ".py",
   "mimetype": "text/x-python",
   "name": "python",
   "nbconvert_exporter": "python",
   "pygments_lexer": "ipython3",
   "version": "3.11.7"
  }
 },
 "nbformat": 4,
 "nbformat_minor": 2
}
